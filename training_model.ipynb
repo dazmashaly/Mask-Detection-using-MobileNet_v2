{
  "nbformat": 4,
  "nbformat_minor": 0,
  "metadata": {
    "colab": {
      "provenance": []
    },
    "kernelspec": {
      "name": "python3",
      "display_name": "Python 3"
    },
    "language_info": {
      "name": "python"
    },
    "accelerator": "GPU",
    "gpuClass": "standard"
  },
  "cells": [
    {
      "cell_type": "code",
      "source": [
        "from tensorflow.keras.layers import Dense, Activation,Input,Dropout,Flatten,AveragePooling2D\n",
        "from tensorflow.keras.optimizers import  Adam\n",
        "from tensorflow.keras.metrics import categorical_crossentropy\n",
        "from tensorflow.keras.preprocessing import image\n",
        "from tensorflow.keras.utils import load_img,to_categorical\n",
        "from tensorflow.keras.preprocessing.image import ImageDataGenerator,img_to_array\n",
        "from tensorflow.keras.models import Model,load_model\n",
        "from tensorflow.keras.applications import imagenet_utils\n",
        "from tensorflow.keras.applications.mobilenet_v2 import MobileNetV2\n",
        "from tensorflow.keras.applications.mobilenet_v2 import preprocess_input\n",
        "from sklearn.metrics import confusion_matrix,classification_report\n",
        "from sklearn.model_selection import train_test_split\n",
        "from sklearn.preprocessing import LabelBinarizer\n",
        "import tensorflow as tf \n",
        "import numpy as np\n",
        "import itertools\n",
        "import shutil\n",
        "import random\n",
        "import os"
      ],
      "metadata": {
        "id": "120q148DojIJ"
      },
      "execution_count": null,
      "outputs": []
    },
    {
      "cell_type": "code",
      "execution_count": null,
      "metadata": {
        "colab": {
          "base_uri": "https://localhost:8080/"
        },
        "id": "vph_9I4ioXAB",
        "outputId": "20f43edc-1abb-43c5-b6e1-a84c54f0a29f"
      },
      "outputs": [
        {
          "output_type": "stream",
          "name": "stdout",
          "text": [
            "Cloning into 'Face-Mask-Detection'...\n",
            "remote: Enumerating objects: 3767, done.\u001b[K\n",
            "remote: Counting objects: 100% (3/3), done.\u001b[K\n",
            "remote: Compressing objects: 100% (3/3), done.\u001b[K\n",
            "remote: Total 3767 (delta 0), reused 0 (delta 0), pack-reused 3764\u001b[K\n",
            "Receiving objects: 100% (3767/3767), 143.05 MiB | 18.92 MiB/s, done.\n",
            "Resolving deltas: 100% (2/2), done.\n",
            "Updating files: 100% (3840/3840), done.\n",
            "/content/Face-Mask-Detection/dataset\n"
          ]
        }
      ],
      "source": [
        "!git clone https://github.com/balajisrinivas/Face-Mask-Detection.git\n",
        "%cd /content/Face-Mask-Detection/dataset"
      ]
    },
    {
      "cell_type": "code",
      "source": [
        "category = [\"with_mask\",\"without_mask\"]\n",
        "data = []\n",
        "labels = []\n",
        "for cat in category:\n",
        "  path = os.path.join(os.getcwd(),cat)\n",
        "  for image in os.listdir(path):\n",
        "    image_path = os.path.join(path,image)\n",
        "    img = load_img(image_path,target_size=(224,224))\n",
        "    img = img_to_array(img)\n",
        "    img = preprocess_input(img)\n",
        "\n",
        "    data.append(img)\n",
        "    labels.append(cat)"
      ],
      "metadata": {
        "colab": {
          "base_uri": "https://localhost:8080/"
        },
        "id": "593rqFm5pRY8",
        "outputId": "4312b4e8-4ff2-4fa2-e85b-efc9988f02ff"
      },
      "execution_count": null,
      "outputs": [
        {
          "output_type": "stream",
          "name": "stderr",
          "text": [
            "/usr/local/lib/python3.8/dist-packages/PIL/Image.py:959: UserWarning: Palette images with Transparency expressed in bytes should be converted to RGBA images\n",
            "  warnings.warn(\n"
          ]
        }
      ]
    },
    {
      "cell_type": "code",
      "source": [
        "lb =LabelBinarizer()\n",
        "labels = lb.fit_transform(labels)\n",
        "labels = to_categorical(labels)\n",
        "\n",
        "data = np.array(data,dtype=\"float32\")\n",
        "labels = np.array(labels)\n",
        "\n",
        "x_train,x_test,y_train,y_test = train_test_split(data,labels,test_size=0.2,\n",
        "                                                 stratify=labels,random_state=42)"
      ],
      "metadata": {
        "id": "xtgLHv8UpRRm"
      },
      "execution_count": null,
      "outputs": []
    },
    {
      "cell_type": "code",
      "source": [
        "len(y_train)"
      ],
      "metadata": {
        "colab": {
          "base_uri": "https://localhost:8080/"
        },
        "id": "vW8ZOzUVho6o",
        "outputId": "ed08e4d4-e4d0-413d-db2e-8fe4fb9db6eb"
      },
      "execution_count": null,
      "outputs": [
        {
          "output_type": "execute_result",
          "data": {
            "text/plain": [
              "3066"
            ]
          },
          "metadata": {},
          "execution_count": 5
        }
      ]
    },
    {
      "cell_type": "code",
      "source": [
        "aug = ImageDataGenerator(rotation_range=20,width_shift_range=0.2,\n",
        "                      height_shift_range =0.2,zoom_range =0.15,horizontal_flip =True\n",
        "                      ,fill_mode = \"nearest\")"
      ],
      "metadata": {
        "id": "zJzTtc73pRPF"
      },
      "execution_count": null,
      "outputs": []
    },
    {
      "cell_type": "code",
      "source": [
        "base_model = MobileNetV2(weights=\"imagenet\",include_top=False,input_tensor=Input(shape=(224,224,3)))"
      ],
      "metadata": {
        "colab": {
          "base_uri": "https://localhost:8080/"
        },
        "id": "Ct3pfhT1pRMd",
        "outputId": "8ab21480-b6d3-4e78-93e0-e49f3aace25c"
      },
      "execution_count": null,
      "outputs": [
        {
          "output_type": "stream",
          "name": "stderr",
          "text": [
            "WARNING:tensorflow:`input_shape` is undefined or non-square, or `rows` is not in [96, 128, 160, 192, 224]. Weights for input shape (224, 224) will be loaded as the default.\n"
          ]
        },
        {
          "output_type": "stream",
          "name": "stdout",
          "text": [
            "Downloading data from https://storage.googleapis.com/tensorflow/keras-applications/mobilenet_v2/mobilenet_v2_weights_tf_dim_ordering_tf_kernels_1.0_224_no_top.h5\n",
            "9406464/9406464 [==============================] - 0s 0us/step\n"
          ]
        }
      ]
    },
    {
      "cell_type": "code",
      "source": [
        "head_mod = base_model.output\n",
        "head_mod = AveragePooling2D(pool_size=(7,7))(head_mod)\n",
        "head_mod = Flatten(name = \"flatten\")(head_mod)\n",
        "head_mod = Dense(128,activation = \"relu\")(head_mod)\n",
        "head_mod = Dropout(0.5)(head_mod)\n",
        "head_mod = Dense(2,activation = \"softmax\")(head_mod)\n",
        "model = Model(inputs =base_model.input,outputs = head_mod)\n"
      ],
      "metadata": {
        "id": "USmRG1oAvdBt"
      },
      "execution_count": null,
      "outputs": []
    },
    {
      "cell_type": "code",
      "source": [
        "for layer in base_model.layers:\n",
        "  layer.trainable = False\n",
        "\n",
        "print(\"[INFO] compiling model...\")\n",
        "opt = Adam(learning_rate =1e-4,weight_decay = 1e-4/20)\n",
        "model.compile(opt,loss=\"binary_crossentropy\",metrics=[\"accuracy\"])\n",
        "\n",
        "H = model.fit(aug.flow(x_train,y_train,batch_size = 32),steps_per_epoch=len(x_train) // 32,\n",
        "              validation_data=(x_test,y_test),validation_steps = len(x_test) // 32,epochs = 20)"
      ],
      "metadata": {
        "id": "G9U9YFU0vc-t",
        "colab": {
          "base_uri": "https://localhost:8080/"
        },
        "outputId": "6ebfbe69-1f04-4cf5-f34e-430e88216a2b"
      },
      "execution_count": null,
      "outputs": [
        {
          "output_type": "stream",
          "name": "stdout",
          "text": [
            "[INFO] compiling model...\n",
            "Epoch 1/20\n",
            "95/95 [==============================] - 46s 375ms/step - loss: 0.4276 - accuracy: 0.8368 - val_loss: 0.1721 - val_accuracy: 0.9752\n",
            "Epoch 2/20\n",
            "95/95 [==============================] - 34s 353ms/step - loss: 0.1554 - accuracy: 0.9614 - val_loss: 0.0940 - val_accuracy: 0.9778\n",
            "Epoch 3/20\n",
            "95/95 [==============================] - 34s 353ms/step - loss: 0.1009 - accuracy: 0.9763 - val_loss: 0.0726 - val_accuracy: 0.9831\n",
            "Epoch 4/20\n",
            "95/95 [==============================] - 34s 354ms/step - loss: 0.0800 - accuracy: 0.9799 - val_loss: 0.0626 - val_accuracy: 0.9844\n",
            "Epoch 5/20\n",
            "95/95 [==============================] - 34s 359ms/step - loss: 0.0767 - accuracy: 0.9766 - val_loss: 0.0568 - val_accuracy: 0.9831\n",
            "Epoch 6/20\n",
            "95/95 [==============================] - 34s 356ms/step - loss: 0.0575 - accuracy: 0.9815 - val_loss: 0.0562 - val_accuracy: 0.9817\n",
            "Epoch 7/20\n",
            "95/95 [==============================] - 33s 350ms/step - loss: 0.0541 - accuracy: 0.9838 - val_loss: 0.0484 - val_accuracy: 0.9870\n",
            "Epoch 8/20\n",
            "95/95 [==============================] - 35s 364ms/step - loss: 0.0483 - accuracy: 0.9845 - val_loss: 0.0506 - val_accuracy: 0.9817\n",
            "Epoch 9/20\n",
            "95/95 [==============================] - 33s 348ms/step - loss: 0.0504 - accuracy: 0.9878 - val_loss: 0.0474 - val_accuracy: 0.9844\n",
            "Epoch 10/20\n",
            "95/95 [==============================] - 34s 355ms/step - loss: 0.0372 - accuracy: 0.9911 - val_loss: 0.0425 - val_accuracy: 0.9909\n",
            "Epoch 11/20\n",
            "95/95 [==============================] - 34s 356ms/step - loss: 0.0418 - accuracy: 0.9881 - val_loss: 0.0414 - val_accuracy: 0.9909\n",
            "Epoch 12/20\n",
            "95/95 [==============================] - 34s 352ms/step - loss: 0.0404 - accuracy: 0.9881 - val_loss: 0.0392 - val_accuracy: 0.9909\n",
            "Epoch 13/20\n",
            "95/95 [==============================] - 33s 342ms/step - loss: 0.0320 - accuracy: 0.9901 - val_loss: 0.0399 - val_accuracy: 0.9883\n",
            "Epoch 14/20\n",
            "95/95 [==============================] - 35s 365ms/step - loss: 0.0337 - accuracy: 0.9891 - val_loss: 0.0407 - val_accuracy: 0.9870\n",
            "Epoch 15/20\n",
            "95/95 [==============================] - 34s 361ms/step - loss: 0.0309 - accuracy: 0.9918 - val_loss: 0.0460 - val_accuracy: 0.9817\n",
            "Epoch 16/20\n",
            "95/95 [==============================] - 33s 351ms/step - loss: 0.0330 - accuracy: 0.9911 - val_loss: 0.0368 - val_accuracy: 0.9870\n",
            "Epoch 17/20\n",
            "95/95 [==============================] - 34s 359ms/step - loss: 0.0285 - accuracy: 0.9904 - val_loss: 0.0395 - val_accuracy: 0.9883\n",
            "Epoch 18/20\n",
            "95/95 [==============================] - 36s 377ms/step - loss: 0.0327 - accuracy: 0.9891 - val_loss: 0.0413 - val_accuracy: 0.9883\n",
            "Epoch 19/20\n",
            "95/95 [==============================] - 34s 355ms/step - loss: 0.0200 - accuracy: 0.9944 - val_loss: 0.0395 - val_accuracy: 0.9870\n",
            "Epoch 20/20\n",
            "95/95 [==============================] - 33s 352ms/step - loss: 0.0320 - accuracy: 0.9901 - val_loss: 0.0349 - val_accuracy: 0.9883\n"
          ]
        }
      ]
    },
    {
      "cell_type": "code",
      "source": [
        "pred_idx = model.predict(x_test,batch_size = 32)\n",
        "preds_idx = np.argmax(pred_idx,axis = 1)"
      ],
      "metadata": {
        "id": "xVcIDzkBvc4t",
        "colab": {
          "base_uri": "https://localhost:8080/"
        },
        "outputId": "13fe4de9-1f2d-4c7e-aec3-14c0a2e6ee19"
      },
      "execution_count": null,
      "outputs": [
        {
          "output_type": "stream",
          "name": "stdout",
          "text": [
            "24/24 [==============================] - 2s 59ms/step\n"
          ]
        }
      ]
    },
    {
      "cell_type": "code",
      "source": [
        "print(classification_report(y_test.argmax(axis=1),preds_idx,target_names = lb.classes_))"
      ],
      "metadata": {
        "id": "MT60I3XApRGN",
        "colab": {
          "base_uri": "https://localhost:8080/"
        },
        "outputId": "d3231114-5235-4046-d194-de6c6ab564f9"
      },
      "execution_count": null,
      "outputs": [
        {
          "output_type": "stream",
          "name": "stdout",
          "text": [
            "              precision    recall  f1-score   support\n",
            "\n",
            "   with_mask       0.98      0.99      0.99       383\n",
            "without_mask       0.99      0.98      0.99       384\n",
            "\n",
            "    accuracy                           0.99       767\n",
            "   macro avg       0.99      0.99      0.99       767\n",
            "weighted avg       0.99      0.99      0.99       767\n",
            "\n"
          ]
        }
      ]
    },
    {
      "cell_type": "code",
      "source": [
        "import matplotlib.pyplot as plt\n",
        "plt.style.use(\"ggplot\")\n",
        "plt.figure()\n",
        "plt.plot(np.arange(0,20),H.history[\"loss\"],label =\"train_loss\")\n",
        "plt.plot(np.arange(0,20),H.history[\"val_loss\"],label =\"val_loss\")\n",
        "plt.plot(np.arange(0,20),H.history[\"accuracy\"],label =\"train_accuracy\")\n",
        "plt.plot(np.arange(0,20),H.history[\"val_accuracy\"],label =\"val_accuracy\")\n",
        "plt.title(\"train loss and accuracy\" )\n"
      ],
      "metadata": {
        "colab": {
          "base_uri": "https://localhost:8080/",
          "height": 299
        },
        "id": "OnZpYEWckyE_",
        "outputId": "bc2d2cb0-57cf-42a4-d0c8-fa5b45e67a80"
      },
      "execution_count": null,
      "outputs": [
        {
          "output_type": "execute_result",
          "data": {
            "text/plain": [
              "Text(0.5, 1.0, 'train loss and accuracy')"
            ]
          },
          "metadata": {},
          "execution_count": 12
        },
        {
          "output_type": "display_data",
          "data": {
            "text/plain": [
              "<Figure size 432x288 with 1 Axes>"
            ],
            "image/png": "[encoded data removed]"
          },
          "metadata": {}
        }
      ]
    },
    {
      "cell_type": "code",
      "source": [
        "model.save(\"mask_dec\",save_format = \"h5\")"
      ],
      "metadata": {
        "id": "HT-kmJlyrqfd"
      },
      "execution_count": null,
      "outputs": []
    },
    {
      "cell_type": "code",
      "source": [],
      "metadata": {
        "id": "K5JxfvtVw2gT"
      },
      "execution_count": null,
      "outputs": []
    }
  ]
}